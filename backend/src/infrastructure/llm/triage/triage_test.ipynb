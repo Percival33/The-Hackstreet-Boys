{
 "cells": [
  {
   "metadata": {
    "ExecuteTime": {
     "end_time": "2024-09-28T21:14:25.869603Z",
     "start_time": "2024-09-28T21:14:25.805803Z"
    }
   },
   "cell_type": "code",
   "source": [
    "%reload_ext autoreload\n",
    "%autoreload 2\n",
    "from src.domain.action import ALL_ACTIONS\n",
    "from src.domain.conversation import Conversation, Message, MessageType\n",
    "from src.infrastructure.llm.triage.triage import Triage\n",
    "import dotenv\n",
    "\n",
    "dotenv.load_dotenv()\n",
    "\n",
    "triage = Triage(\n",
    "    language='polski'\n",
    ")\n",
    "messages = [\n",
    "    Message(\n",
    "        type=MessageType.USER,\n",
    "        text='Chcę wypełnić PCC',\n",
    "        choices=None\n",
    "    ),\n",
    "    Message(\n",
    "        type=MessageType.ASSISTANT,\n",
    "        text='Jaka wersja PCC?',\n",
    "        choices=[\n",
    "            'PCC-1',\n",
    "            'PCC-2',\n",
    "            'PCC-3',\n",
    "        ]\n",
    "    ),\n",
    "    Message(\n",
    "        type=MessageType.USER,\n",
    "        text='Jak zapłacic podatek rolny?',\n",
    "        choices=None\n",
    "    ),\n",
    "]\n",
    "\n",
    "conversation_sample = Conversation()\n",
    "conversation_sample._available_actions = [*ALL_ACTIONS]\n",
    "_ = [conversation_sample.append_message(i) for i in messages]"
   ],
   "id": "8953112158d5a8d2",
   "outputs": [
    {
     "ename": "ValidationError",
     "evalue": "7 validation errors for Settings\nhost\n  Field required [type=missing, input_value={}, input_type=dict]\n    For further information visit https://errors.pydantic.dev/2.8/v/missing\nport\n  Field required [type=missing, input_value={}, input_type=dict]\n    For further information visit https://errors.pydantic.dev/2.8/v/missing\ndebug_mode\n  Field required [type=missing, input_value={}, input_type=dict]\n    For further information visit https://errors.pydantic.dev/2.8/v/missing\nopenai_api_key\n  Field required [type=missing, input_value={}, input_type=dict]\n    For further information visit https://errors.pydantic.dev/2.8/v/missing\nfrontend_base_url\n  Field required [type=missing, input_value={}, input_type=dict]\n    For further information visit https://errors.pydantic.dev/2.8/v/missing\nchroma\n  Field required [type=missing, input_value={}, input_type=dict]\n    For further information visit https://errors.pydantic.dev/2.8/v/missing\nmongo\n  Field required [type=missing, input_value={}, input_type=dict]\n    For further information visit https://errors.pydantic.dev/2.8/v/missing",
     "output_type": "error",
     "traceback": [
      "\u001B[0;31m---------------------------------------------------------------------------\u001B[0m",
      "\u001B[0;31mValidationError\u001B[0m                           Traceback (most recent call last)",
      "Cell \u001B[0;32mIn[2], line 5\u001B[0m\n\u001B[1;32m      3\u001B[0m \u001B[38;5;28;01mfrom\u001B[39;00m \u001B[38;5;21;01msrc\u001B[39;00m\u001B[38;5;21;01m.\u001B[39;00m\u001B[38;5;21;01mdomain\u001B[39;00m\u001B[38;5;21;01m.\u001B[39;00m\u001B[38;5;21;01maction\u001B[39;00m \u001B[38;5;28;01mimport\u001B[39;00m ALL_ACTIONS\n\u001B[1;32m      4\u001B[0m \u001B[38;5;28;01mfrom\u001B[39;00m \u001B[38;5;21;01msrc\u001B[39;00m\u001B[38;5;21;01m.\u001B[39;00m\u001B[38;5;21;01mdomain\u001B[39;00m\u001B[38;5;21;01m.\u001B[39;00m\u001B[38;5;21;01mconversation\u001B[39;00m \u001B[38;5;28;01mimport\u001B[39;00m Conversation, Message, MessageType\n\u001B[0;32m----> 5\u001B[0m \u001B[38;5;28;01mfrom\u001B[39;00m \u001B[38;5;21;01msrc\u001B[39;00m\u001B[38;5;21;01m.\u001B[39;00m\u001B[38;5;21;01minfrastructure\u001B[39;00m\u001B[38;5;21;01m.\u001B[39;00m\u001B[38;5;21;01mllm\u001B[39;00m\u001B[38;5;21;01m.\u001B[39;00m\u001B[38;5;21;01mtriage\u001B[39;00m\u001B[38;5;21;01m.\u001B[39;00m\u001B[38;5;21;01mtriage\u001B[39;00m \u001B[38;5;28;01mimport\u001B[39;00m Triage\n\u001B[1;32m      6\u001B[0m \u001B[38;5;28;01mimport\u001B[39;00m \u001B[38;5;21;01mdotenv\u001B[39;00m\n\u001B[1;32m      8\u001B[0m dotenv\u001B[38;5;241m.\u001B[39mload_dotenv()\n",
      "File \u001B[0;32m~/Projects/Hackhatons/The-Hackstreet-Boys/backend/src/infrastructure/llm/triage/triage.py:6\u001B[0m\n\u001B[1;32m      4\u001B[0m \u001B[38;5;28;01mfrom\u001B[39;00m \u001B[38;5;21;01msrc\u001B[39;00m\u001B[38;5;21;01m.\u001B[39;00m\u001B[38;5;21;01mdomain\u001B[39;00m\u001B[38;5;21;01m.\u001B[39;00m\u001B[38;5;21;01maction\u001B[39;00m \u001B[38;5;28;01mimport\u001B[39;00m ActionName, Action\n\u001B[1;32m      5\u001B[0m \u001B[38;5;28;01mfrom\u001B[39;00m \u001B[38;5;21;01msrc\u001B[39;00m\u001B[38;5;21;01m.\u001B[39;00m\u001B[38;5;21;01mdomain\u001B[39;00m\u001B[38;5;21;01m.\u001B[39;00m\u001B[38;5;21;01mconversation\u001B[39;00m \u001B[38;5;28;01mimport\u001B[39;00m Conversation\n\u001B[0;32m----> 6\u001B[0m \u001B[38;5;28;01mfrom\u001B[39;00m \u001B[38;5;21;01msrc\u001B[39;00m\u001B[38;5;21;01m.\u001B[39;00m\u001B[38;5;21;01minfrastructure\u001B[39;00m\u001B[38;5;21;01m.\u001B[39;00m\u001B[38;5;21;01mllm\u001B[39;00m\u001B[38;5;21;01m.\u001B[39;00m\u001B[38;5;21;01mforms\u001B[39;00m\u001B[38;5;21;01m.\u001B[39;00m\u001B[38;5;21;01mgpt_client\u001B[39;00m \u001B[38;5;28;01mimport\u001B[39;00m GptClient\n\u001B[1;32m      7\u001B[0m \u001B[38;5;28;01mfrom\u001B[39;00m \u001B[38;5;21;01msrc\u001B[39;00m\u001B[38;5;21;01m.\u001B[39;00m\u001B[38;5;21;01minfrastructure\u001B[39;00m\u001B[38;5;21;01m.\u001B[39;00m\u001B[38;5;21;01mllm\u001B[39;00m\u001B[38;5;21;01m.\u001B[39;00m\u001B[38;5;21;01mforms\u001B[39;00m\u001B[38;5;21;01m.\u001B[39;00m\u001B[38;5;21;01mgpt_prompt_creator\u001B[39;00m \u001B[38;5;28;01mimport\u001B[39;00m GptPromptCreator\n\u001B[1;32m      8\u001B[0m \u001B[38;5;28;01mfrom\u001B[39;00m \u001B[38;5;21;01msrc\u001B[39;00m\u001B[38;5;21;01m.\u001B[39;00m\u001B[38;5;21;01minfrastructure\u001B[39;00m\u001B[38;5;21;01m.\u001B[39;00m\u001B[38;5;21;01mllm\u001B[39;00m\u001B[38;5;21;01m.\u001B[39;00m\u001B[38;5;21;01mtriage\u001B[39;00m\u001B[38;5;21;01m.\u001B[39;00m\u001B[38;5;21;01mprompts\u001B[39;00m \u001B[38;5;28;01mimport\u001B[39;00m triage_step_action, triage_step_response_system, triage_step_response, \\\n\u001B[1;32m      9\u001B[0m     triage_step_action_system\n",
      "File \u001B[0;32m~/Projects/Hackhatons/The-Hackstreet-Boys/backend/src/infrastructure/llm/forms/gpt_client.py:8\u001B[0m\n\u001B[1;32m      6\u001B[0m \u001B[38;5;28;01mfrom\u001B[39;00m \u001B[38;5;21;01msrc\u001B[39;00m\u001B[38;5;21;01m.\u001B[39;00m\u001B[38;5;21;01mapplication\u001B[39;00m\u001B[38;5;21;01m.\u001B[39;00m\u001B[38;5;21;01mllm_client\u001B[39;00m \u001B[38;5;28;01mimport\u001B[39;00m LlmClient\n\u001B[1;32m      7\u001B[0m \u001B[38;5;28;01mfrom\u001B[39;00m \u001B[38;5;21;01msrc\u001B[39;00m\u001B[38;5;21;01m.\u001B[39;00m\u001B[38;5;21;01minfrastructure\u001B[39;00m\u001B[38;5;21;01m.\u001B[39;00m\u001B[38;5;21;01mllm\u001B[39;00m\u001B[38;5;21;01m.\u001B[39;00m\u001B[38;5;21;01mforms\u001B[39;00m\u001B[38;5;21;01m.\u001B[39;00m\u001B[38;5;21;01mgpt_prompt_creator\u001B[39;00m \u001B[38;5;28;01mimport\u001B[39;00m GptPromptCreator\n\u001B[0;32m----> 8\u001B[0m \u001B[38;5;28;01mfrom\u001B[39;00m \u001B[38;5;21;01msrc\u001B[39;00m\u001B[38;5;21;01m.\u001B[39;00m\u001B[38;5;21;01minfrastructure\u001B[39;00m\u001B[38;5;21;01m.\u001B[39;00m\u001B[38;5;21;01msettings\u001B[39;00m \u001B[38;5;28;01mimport\u001B[39;00m settings\n\u001B[1;32m     11\u001B[0m \u001B[38;5;28;01mclass\u001B[39;00m \u001B[38;5;21;01mGptClient\u001B[39;00m(LlmClient):\n\u001B[1;32m     12\u001B[0m     \u001B[38;5;28;01mdef\u001B[39;00m \u001B[38;5;21m__init__\u001B[39m(\u001B[38;5;28mself\u001B[39m):\n",
      "File \u001B[0;32m~/Projects/Hackhatons/The-Hackstreet-Boys/backend/src/infrastructure/settings.py:31\u001B[0m\n\u001B[1;32m     24\u001B[0m     mongo: MongoSettings\n\u001B[1;32m     26\u001B[0m     model_config \u001B[38;5;241m=\u001B[39m SettingsConfigDict(\n\u001B[1;32m     27\u001B[0m         env_file\u001B[38;5;241m=\u001B[39m(\u001B[38;5;124m\"\u001B[39m\u001B[38;5;124m.env\u001B[39m\u001B[38;5;124m\"\u001B[39m,), env_nested_delimiter\u001B[38;5;241m=\u001B[39m\u001B[38;5;124m\"\u001B[39m\u001B[38;5;124m__\u001B[39m\u001B[38;5;124m\"\u001B[39m\n\u001B[1;32m     28\u001B[0m     )\n\u001B[0;32m---> 31\u001B[0m settings \u001B[38;5;241m=\u001B[39m Settings()\n",
      "File \u001B[0;32m~/anaconda3/lib/python3.12/site-packages/pydantic_settings/main.py:152\u001B[0m, in \u001B[0;36mBaseSettings.__init__\u001B[0;34m(__pydantic_self__, _case_sensitive, _nested_model_default_partial_update, _env_prefix, _env_file, _env_file_encoding, _env_ignore_empty, _env_nested_delimiter, _env_parse_none_str, _env_parse_enums, _cli_prog_name, _cli_parse_args, _cli_settings_source, _cli_parse_none_str, _cli_hide_none_type, _cli_avoid_json, _cli_enforce_required, _cli_use_class_docs_for_groups, _cli_exit_on_error, _cli_prefix, _cli_implicit_flags, _secrets_dir, **values)\u001B[0m\n\u001B[1;32m    126\u001B[0m \u001B[38;5;28;01mdef\u001B[39;00m \u001B[38;5;21m__init__\u001B[39m(\n\u001B[1;32m    127\u001B[0m     __pydantic_self__,\n\u001B[1;32m    128\u001B[0m     _case_sensitive: \u001B[38;5;28mbool\u001B[39m \u001B[38;5;241m|\u001B[39m \u001B[38;5;28;01mNone\u001B[39;00m \u001B[38;5;241m=\u001B[39m \u001B[38;5;28;01mNone\u001B[39;00m,\n\u001B[0;32m   (...)\u001B[0m\n\u001B[1;32m    150\u001B[0m ) \u001B[38;5;241m-\u001B[39m\u001B[38;5;241m>\u001B[39m \u001B[38;5;28;01mNone\u001B[39;00m:\n\u001B[1;32m    151\u001B[0m     \u001B[38;5;66;03m# Uses something other than `self` the first arg to allow \"self\" as a settable attribute\u001B[39;00m\n\u001B[0;32m--> 152\u001B[0m     \u001B[38;5;28msuper\u001B[39m()\u001B[38;5;241m.\u001B[39m\u001B[38;5;21m__init__\u001B[39m(\n\u001B[1;32m    153\u001B[0m         \u001B[38;5;241m*\u001B[39m\u001B[38;5;241m*\u001B[39m__pydantic_self__\u001B[38;5;241m.\u001B[39m_settings_build_values(\n\u001B[1;32m    154\u001B[0m             values,\n\u001B[1;32m    155\u001B[0m             _case_sensitive\u001B[38;5;241m=\u001B[39m_case_sensitive,\n\u001B[1;32m    156\u001B[0m             _nested_model_default_partial_update\u001B[38;5;241m=\u001B[39m_nested_model_default_partial_update,\n\u001B[1;32m    157\u001B[0m             _env_prefix\u001B[38;5;241m=\u001B[39m_env_prefix,\n\u001B[1;32m    158\u001B[0m             _env_file\u001B[38;5;241m=\u001B[39m_env_file,\n\u001B[1;32m    159\u001B[0m             _env_file_encoding\u001B[38;5;241m=\u001B[39m_env_file_encoding,\n\u001B[1;32m    160\u001B[0m             _env_ignore_empty\u001B[38;5;241m=\u001B[39m_env_ignore_empty,\n\u001B[1;32m    161\u001B[0m             _env_nested_delimiter\u001B[38;5;241m=\u001B[39m_env_nested_delimiter,\n\u001B[1;32m    162\u001B[0m             _env_parse_none_str\u001B[38;5;241m=\u001B[39m_env_parse_none_str,\n\u001B[1;32m    163\u001B[0m             _env_parse_enums\u001B[38;5;241m=\u001B[39m_env_parse_enums,\n\u001B[1;32m    164\u001B[0m             _cli_prog_name\u001B[38;5;241m=\u001B[39m_cli_prog_name,\n\u001B[1;32m    165\u001B[0m             _cli_parse_args\u001B[38;5;241m=\u001B[39m_cli_parse_args,\n\u001B[1;32m    166\u001B[0m             _cli_settings_source\u001B[38;5;241m=\u001B[39m_cli_settings_source,\n\u001B[1;32m    167\u001B[0m             _cli_parse_none_str\u001B[38;5;241m=\u001B[39m_cli_parse_none_str,\n\u001B[1;32m    168\u001B[0m             _cli_hide_none_type\u001B[38;5;241m=\u001B[39m_cli_hide_none_type,\n\u001B[1;32m    169\u001B[0m             _cli_avoid_json\u001B[38;5;241m=\u001B[39m_cli_avoid_json,\n\u001B[1;32m    170\u001B[0m             _cli_enforce_required\u001B[38;5;241m=\u001B[39m_cli_enforce_required,\n\u001B[1;32m    171\u001B[0m             _cli_use_class_docs_for_groups\u001B[38;5;241m=\u001B[39m_cli_use_class_docs_for_groups,\n\u001B[1;32m    172\u001B[0m             _cli_exit_on_error\u001B[38;5;241m=\u001B[39m_cli_exit_on_error,\n\u001B[1;32m    173\u001B[0m             _cli_prefix\u001B[38;5;241m=\u001B[39m_cli_prefix,\n\u001B[1;32m    174\u001B[0m             _cli_implicit_flags\u001B[38;5;241m=\u001B[39m_cli_implicit_flags,\n\u001B[1;32m    175\u001B[0m             _secrets_dir\u001B[38;5;241m=\u001B[39m_secrets_dir,\n\u001B[1;32m    176\u001B[0m         )\n\u001B[1;32m    177\u001B[0m     )\n",
      "File \u001B[0;32m~/anaconda3/lib/python3.12/site-packages/pydantic/main.py:193\u001B[0m, in \u001B[0;36mBaseModel.__init__\u001B[0;34m(self, **data)\u001B[0m\n\u001B[1;32m    191\u001B[0m \u001B[38;5;66;03m# `__tracebackhide__` tells pytest and some other tools to omit this function from tracebacks\u001B[39;00m\n\u001B[1;32m    192\u001B[0m __tracebackhide__ \u001B[38;5;241m=\u001B[39m \u001B[38;5;28;01mTrue\u001B[39;00m\n\u001B[0;32m--> 193\u001B[0m \u001B[38;5;28mself\u001B[39m\u001B[38;5;241m.\u001B[39m__pydantic_validator__\u001B[38;5;241m.\u001B[39mvalidate_python(data, self_instance\u001B[38;5;241m=\u001B[39m\u001B[38;5;28mself\u001B[39m)\n",
      "\u001B[0;31mValidationError\u001B[0m: 7 validation errors for Settings\nhost\n  Field required [type=missing, input_value={}, input_type=dict]\n    For further information visit https://errors.pydantic.dev/2.8/v/missing\nport\n  Field required [type=missing, input_value={}, input_type=dict]\n    For further information visit https://errors.pydantic.dev/2.8/v/missing\ndebug_mode\n  Field required [type=missing, input_value={}, input_type=dict]\n    For further information visit https://errors.pydantic.dev/2.8/v/missing\nopenai_api_key\n  Field required [type=missing, input_value={}, input_type=dict]\n    For further information visit https://errors.pydantic.dev/2.8/v/missing\nfrontend_base_url\n  Field required [type=missing, input_value={}, input_type=dict]\n    For further information visit https://errors.pydantic.dev/2.8/v/missing\nchroma\n  Field required [type=missing, input_value={}, input_type=dict]\n    For further information visit https://errors.pydantic.dev/2.8/v/missing\nmongo\n  Field required [type=missing, input_value={}, input_type=dict]\n    For further information visit https://errors.pydantic.dev/2.8/v/missing"
     ]
    }
   ],
   "execution_count": 2
  },
  {
   "metadata": {},
   "cell_type": "code",
   "source": "res = triage.step(conversation_sample)",
   "id": "148e8d57defd44ac",
   "outputs": [],
   "execution_count": null
  },
  {
   "metadata": {},
   "cell_type": "code",
   "source": "res[1]",
   "id": "3c14f52440c427bf",
   "outputs": [],
   "execution_count": null
  },
  {
   "metadata": {},
   "cell_type": "code",
   "execution_count": null,
   "source": "",
   "id": "dd5bca04b9d47c08",
   "outputs": []
  }
 ],
 "metadata": {
  "kernelspec": {
   "display_name": "Python 3",
   "language": "python",
   "name": "python3"
  },
  "language_info": {
   "codemirror_mode": {
    "name": "ipython",
    "version": 2
   },
   "file_extension": ".py",
   "mimetype": "text/x-python",
   "name": "python",
   "nbconvert_exporter": "python",
   "pygments_lexer": "ipython2",
   "version": "2.7.6"
  }
 },
 "nbformat": 4,
 "nbformat_minor": 5
}
