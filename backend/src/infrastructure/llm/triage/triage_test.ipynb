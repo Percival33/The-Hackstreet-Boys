{
 "cells": [
  {
   "metadata": {
    "ExecuteTime": {
     "end_time": "2024-09-28T17:00:34.365376Z",
     "start_time": "2024-09-28T17:00:34.131334Z"
    }
   },
   "cell_type": "code",
   "source": [
    "%reload_ext autoreload\n",
    "%autoreload 2\n",
    "from src.domain.action import ALL_ACTIONS\n",
    "from src.domain.conversation import Conversation, Message, MessageType, MessageChoice\n",
    "from src.infrastructure.llm.triage.triage import Triage\n",
    "import dotenv\n",
    "\n",
    "dotenv.load_dotenv()\n",
    "\n",
    "triage = Triage(\n",
    "    language='polski'\n",
    ")\n",
    "messages = [\n",
    "    Message(\n",
    "        type=MessageType.USER,\n",
    "        text='Chcę wypełnić PCC',\n",
    "        choices=None\n",
    "    ),\n",
    "    Message(\n",
    "        type=MessageType.ASSISTANT,\n",
    "        text='Jaka wersja PCC?',\n",
    "        choices=[\n",
    "            MessageChoice(\n",
    "                text=ALL_ACTIONS.values()[0].user_description,\n",
    "                action_name=ALL_ACTIONS.values()[0].name\n",
    "            ),\n",
    "        ]\n",
    "    ),\n",
    "    Message(\n",
    "        type=MessageType.USER,\n",
    "        text='PCC-3',\n",
    "        choices=None\n",
    "    ),\n",
    "]\n",
    "\n",
    "conversation_sample = Conversation()\n",
    "conversation_sample._available_actions = ALL_ACTIONS.values()\n",
    "_ = [conversation_sample.append_message(i) for i in messages]"
   ],
   "id": "8953112158d5a8d2",
   "outputs": [
    {
     "ename": "TypeError",
     "evalue": "'dict_values' object is not subscriptable",
     "output_type": "error",
     "traceback": [
      "\u001B[0;31m---------------------------------------------------------------------------\u001B[0m",
      "\u001B[0;31mTypeError\u001B[0m                                 Traceback (most recent call last)",
      "Cell \u001B[0;32mIn[114], line 24\u001B[0m\n\u001B[1;32m      8\u001B[0m dotenv\u001B[38;5;241m.\u001B[39mload_dotenv()\n\u001B[1;32m     10\u001B[0m triage \u001B[38;5;241m=\u001B[39m Triage(\n\u001B[1;32m     11\u001B[0m     language\u001B[38;5;241m=\u001B[39m\u001B[38;5;124m'\u001B[39m\u001B[38;5;124mpolski\u001B[39m\u001B[38;5;124m'\u001B[39m\n\u001B[1;32m     12\u001B[0m )\n\u001B[1;32m     13\u001B[0m messages \u001B[38;5;241m=\u001B[39m [\n\u001B[1;32m     14\u001B[0m     Message(\n\u001B[1;32m     15\u001B[0m         \u001B[38;5;28mtype\u001B[39m\u001B[38;5;241m=\u001B[39mMessageType\u001B[38;5;241m.\u001B[39mUSER,\n\u001B[1;32m     16\u001B[0m         text\u001B[38;5;241m=\u001B[39m\u001B[38;5;124m'\u001B[39m\u001B[38;5;124mChcę wypełnić PCC\u001B[39m\u001B[38;5;124m'\u001B[39m,\n\u001B[1;32m     17\u001B[0m         choices\u001B[38;5;241m=\u001B[39m\u001B[38;5;28;01mNone\u001B[39;00m\n\u001B[1;32m     18\u001B[0m     ),\n\u001B[1;32m     19\u001B[0m     Message(\n\u001B[1;32m     20\u001B[0m         \u001B[38;5;28mtype\u001B[39m\u001B[38;5;241m=\u001B[39mMessageType\u001B[38;5;241m.\u001B[39mASSISTANT,\n\u001B[1;32m     21\u001B[0m         text\u001B[38;5;241m=\u001B[39m\u001B[38;5;124m'\u001B[39m\u001B[38;5;124mJaka wersja PCC?\u001B[39m\u001B[38;5;124m'\u001B[39m,\n\u001B[1;32m     22\u001B[0m         choices\u001B[38;5;241m=\u001B[39m[\n\u001B[1;32m     23\u001B[0m             MessageChoice(\n\u001B[0;32m---> 24\u001B[0m                 text\u001B[38;5;241m=\u001B[39mALL_ACTIONS\u001B[38;5;241m.\u001B[39mvalues()[\u001B[38;5;241m0\u001B[39m]\u001B[38;5;241m.\u001B[39muser_description,\n\u001B[1;32m     25\u001B[0m                 action_name\u001B[38;5;241m=\u001B[39mALL_ACTIONS\u001B[38;5;241m.\u001B[39mvalues()[\u001B[38;5;241m0\u001B[39m]\u001B[38;5;241m.\u001B[39mname\n\u001B[1;32m     26\u001B[0m             ),\n\u001B[1;32m     27\u001B[0m         ]\n\u001B[1;32m     28\u001B[0m     ),\n\u001B[1;32m     29\u001B[0m     Message(\n\u001B[1;32m     30\u001B[0m         \u001B[38;5;28mtype\u001B[39m\u001B[38;5;241m=\u001B[39mMessageType\u001B[38;5;241m.\u001B[39mUSER,\n\u001B[1;32m     31\u001B[0m         text\u001B[38;5;241m=\u001B[39m\u001B[38;5;124m'\u001B[39m\u001B[38;5;124mPCC-3\u001B[39m\u001B[38;5;124m'\u001B[39m,\n\u001B[1;32m     32\u001B[0m         choices\u001B[38;5;241m=\u001B[39m\u001B[38;5;28;01mNone\u001B[39;00m\n\u001B[1;32m     33\u001B[0m     ),\n\u001B[1;32m     34\u001B[0m ]\n\u001B[1;32m     36\u001B[0m conversation_sample \u001B[38;5;241m=\u001B[39m Conversation()\n\u001B[1;32m     37\u001B[0m conversation_sample\u001B[38;5;241m.\u001B[39m_available_actions \u001B[38;5;241m=\u001B[39m ALL_ACTIONS\u001B[38;5;241m.\u001B[39mvalues()\n",
      "\u001B[0;31mTypeError\u001B[0m: 'dict_values' object is not subscriptable"
     ]
    }
   ],
   "execution_count": 114
  },
  {
   "metadata": {},
   "cell_type": "code",
   "source": "res = triage.step(conversation_sample)",
   "id": "148e8d57defd44ac",
   "outputs": [],
   "execution_count": null
  },
  {
   "metadata": {},
   "cell_type": "code",
   "source": "res[1]",
   "id": "3c14f52440c427bf",
   "outputs": [],
   "execution_count": null
  },
  {
   "metadata": {},
   "cell_type": "code",
   "outputs": [],
   "execution_count": null,
   "source": "",
   "id": "dd5bca04b9d47c08"
  }
 ],
 "metadata": {
  "kernelspec": {
   "display_name": "Python 3",
   "language": "python",
   "name": "python3"
  },
  "language_info": {
   "codemirror_mode": {
    "name": "ipython",
    "version": 2
   },
   "file_extension": ".py",
   "mimetype": "text/x-python",
   "name": "python",
   "nbconvert_exporter": "python",
   "pygments_lexer": "ipython2",
   "version": "2.7.6"
  }
 },
 "nbformat": 4,
 "nbformat_minor": 5
}
