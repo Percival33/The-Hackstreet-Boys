{
 "cells": [
  {
   "metadata": {
    "ExecuteTime": {
     "end_time": "2024-09-28T16:56:33.022068Z",
     "start_time": "2024-09-28T16:56:32.770991Z"
    }
   },
   "cell_type": "code",
   "source": [
    "%reload_ext autoreload\n",
    "%autoreload 2\n",
    "from src.domain.action import ALL_ACTIONS\n",
    "from src.domain.conversation import Conversation, Message, MessageType, MessageChoice\n",
    "from src.infrastructure.llm.triage.triage import Triage\n",
    "import dotenv\n",
    "\n",
    "dotenv.load_dotenv()\n",
    "\n",
    "triage = Triage(\n",
    "    language='polski'\n",
    ")\n",
    "messages = [\n",
    "    Message(\n",
    "        type=MessageType.USER,\n",
    "        text='Chcę wypełnić PCC',\n",
    "        choices=None\n",
    "    ),\n",
    "    Message(\n",
    "        type=MessageType.ASSISTANT,\n",
    "        text='Jaka wersja PCC?',\n",
    "        choices=[\n",
    "            MessageChoice(\n",
    "                text=ALL_ACTIONS[0].user_description,\n",
    "                action_name=ALL_ACTIONS[0].name\n",
    "            ),\n",
    "        ]\n",
    "    ),\n",
    "    Message(\n",
    "        type=MessageType.USER,\n",
    "        text='PCC-3',\n",
    "        choices=None\n",
    "    ),\n",
    "]\n",
    "\n",
    "conversation_sample = Conversation()\n",
    "conversation_sample._available_actions = [*ALL_ACTIONS]\n",
    "_ = [conversation_sample.append_message(i) for i in messages]"
   ],
   "id": "8953112158d5a8d2",
   "execution_count": 108,
   "outputs": []
  },
  {
   "metadata": {
    "ExecuteTime": {
     "end_time": "2024-09-28T16:56:34.727994Z",
     "start_time": "2024-09-28T16:56:34.493123Z"
    }
   },
   "cell_type": "code",
   "source": "res = triage.step(conversation_sample)",
   "id": "148e8d57defd44ac",
   "execution_count": 109,
   "outputs": []
  },
  {
   "metadata": {},
   "cell_type": "code",
   "source": "res[1]",
   "id": "3c14f52440c427bf",
   "execution_count": null,
   "outputs": []
  },
  {
   "metadata": {},
   "cell_type": "code",
   "execution_count": null,
   "source": "",
   "id": "dd5bca04b9d47c08",
   "outputs": []
  }
 ],
 "metadata": {
  "kernelspec": {
   "display_name": "Python 3",
   "language": "python",
   "name": "python3"
  },
  "language_info": {
   "codemirror_mode": {
    "name": "ipython",
    "version": 2
   },
   "file_extension": ".py",
   "mimetype": "text/x-python",
   "name": "python",
   "nbconvert_exporter": "python",
   "pygments_lexer": "ipython2",
   "version": "2.7.6"
  }
 },
 "nbformat": 4,
 "nbformat_minor": 5
}
