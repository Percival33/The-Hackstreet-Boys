{
 "cells": [
  {
   "metadata": {
    "ExecuteTime": {
     "end_time": "2024-09-28T16:56:33.022068Z",
     "start_time": "2024-09-28T16:56:32.770991Z"
    }
   },
   "cell_type": "code",
   "source": [
    "%reload_ext autoreload\n",
    "%autoreload 2\n",
    "from src.domain.action import ALL_ACTIONS\n",
    "from src.domain.conversation import Conversation, Message, MessageType, MessageChoice\n",
    "from src.infrastructure.llm.triage.triage import Triage\n",
    "import dotenv\n",
    "\n",
    "dotenv.load_dotenv()\n",
    "\n",
    "triage = Triage(\n",
    "    language='polski'\n",
    ")\n",
    "messages = [\n",
    "    Message(\n",
    "        type=MessageType.USER,\n",
    "        text='Chcę wypełnić PCC',\n",
    "        choices=None\n",
    "    ),\n",
    "    Message(\n",
    "        type=MessageType.ASSISTANT,\n",
    "        text='Jaka wersja PCC?',\n",
    "        choices=[\n",
    "            MessageChoice(\n",
    "                text=ALL_ACTIONS[0].user_description,\n",
    "                action_name=ALL_ACTIONS[0].name\n",
    "            ),\n",
    "        ]\n",
    "    ),\n",
    "    Message(\n",
    "        type=MessageType.USER,\n",
    "        text='PCC-3',\n",
    "        choices=None\n",
    "    ),\n",
    "]\n",
    "\n",
    "conversation_sample = Conversation()\n",
    "conversation_sample._available_actions = [*ALL_ACTIONS]\n",
    "_ = [conversation_sample.append_message(i) for i in messages]"
   ],
   "id": "8953112158d5a8d2",
   "outputs": [],
   "execution_count": 108
  },
  {
   "metadata": {
    "ExecuteTime": {
     "end_time": "2024-09-28T16:56:34.727994Z",
     "start_time": "2024-09-28T16:56:34.493123Z"
    }
   },
   "cell_type": "code",
   "source": "res = triage.step(conversation_sample)",
   "id": "148e8d57defd44ac",
   "outputs": [
    {
     "ename": "TypeError",
     "evalue": "list indices must be integers or slices, not ActionName",
     "output_type": "error",
     "traceback": [
      "\u001B[0;31m---------------------------------------------------------------------------\u001B[0m",
      "\u001B[0;31mTypeError\u001B[0m                                 Traceback (most recent call last)",
      "Cell \u001B[0;32mIn[109], line 1\u001B[0m\n\u001B[0;32m----> 1\u001B[0m res \u001B[38;5;241m=\u001B[39m triage\u001B[38;5;241m.\u001B[39mstep(conversation_sample)\n",
      "File \u001B[0;32m~/Projects/Hackhatons/The-Hackstreet-Boys/backend/src/infrastructure/llm/triage/triage.py:48\u001B[0m, in \u001B[0;36mTriage.step\u001B[0;34m(self, conversation, depth)\u001B[0m\n\u001B[1;32m     46\u001B[0m \u001B[38;5;28;01melse\u001B[39;00m:\n\u001B[1;32m     47\u001B[0m     current_actions \u001B[38;5;241m=\u001B[39m ALL_ACTIONS\n\u001B[0;32m---> 48\u001B[0m actions_str \u001B[38;5;241m=\u001B[39m \u001B[38;5;28mself\u001B[39m\u001B[38;5;241m.\u001B[39m__parse_actions(current_actions)\n\u001B[1;32m     50\u001B[0m generation_settings \u001B[38;5;241m=\u001B[39m GptGenerationSettings(\n\u001B[1;32m     51\u001B[0m     response_format\u001B[38;5;241m=\u001B[39mTriageModelResponse\n\u001B[1;32m     52\u001B[0m )\n\u001B[1;32m     54\u001B[0m \u001B[38;5;28;01mif\u001B[39;00m \u001B[38;5;28mlen\u001B[39m(conversation\u001B[38;5;241m.\u001B[39mmessages) \u001B[38;5;241m==\u001B[39m \u001B[38;5;241m1\u001B[39m:\n",
      "File \u001B[0;32m~/Projects/Hackhatons/The-Hackstreet-Boys/backend/src/infrastructure/llm/triage/triage.py:82\u001B[0m, in \u001B[0;36mTriage.__parse_actions\u001B[0;34m(actions)\u001B[0m\n\u001B[1;32m     80\u001B[0m res \u001B[38;5;241m=\u001B[39m \u001B[38;5;124m'\u001B[39m\u001B[38;5;124m'\u001B[39m\n\u001B[1;32m     81\u001B[0m \u001B[38;5;28;01mfor\u001B[39;00m i, action_choice \u001B[38;5;129;01min\u001B[39;00m \u001B[38;5;28menumerate\u001B[39m(actions):\n\u001B[0;32m---> 82\u001B[0m     action \u001B[38;5;241m=\u001B[39m ALL_ACTIONS[action_choice\u001B[38;5;241m.\u001B[39maction_name]\n\u001B[1;32m     83\u001B[0m     res \u001B[38;5;241m+\u001B[39m\u001B[38;5;241m=\u001B[39m \u001B[38;5;124mf\u001B[39m\u001B[38;5;124m'\u001B[39m\u001B[38;5;132;01m{\u001B[39;00mi\u001B[38;5;250m \u001B[39m\u001B[38;5;241m+\u001B[39m\u001B[38;5;250m \u001B[39m\u001B[38;5;241m1\u001B[39m\u001B[38;5;132;01m}\u001B[39;00m\u001B[38;5;124m. \u001B[39m\u001B[38;5;132;01m{\u001B[39;00maction\u001B[38;5;241m.\u001B[39mname\u001B[38;5;241m.\u001B[39mvalue\u001B[38;5;132;01m}\u001B[39;00m\u001B[38;5;130;01m\\n\u001B[39;00m\u001B[38;5;124m'\u001B[39m\n\u001B[1;32m     84\u001B[0m     res \u001B[38;5;241m+\u001B[39m\u001B[38;5;241m=\u001B[39m \u001B[38;5;124mf\u001B[39m\u001B[38;5;124m'\u001B[39m\u001B[38;5;132;01m{\u001B[39;00maction\u001B[38;5;241m.\u001B[39mdescription\u001B[38;5;132;01m}\u001B[39;00m\u001B[38;5;130;01m\\n\u001B[39;00m\u001B[38;5;124m'\u001B[39m\n",
      "\u001B[0;31mTypeError\u001B[0m: list indices must be integers or slices, not ActionName"
     ]
    }
   ],
   "execution_count": 109
  },
  {
   "metadata": {},
   "cell_type": "code",
   "source": "res[1]",
   "id": "3c14f52440c427bf",
   "outputs": [],
   "execution_count": null
  },
  {
   "metadata": {},
   "cell_type": "code",
   "outputs": [],
   "execution_count": null,
   "source": "",
   "id": "dd5bca04b9d47c08"
  }
 ],
 "metadata": {
  "kernelspec": {
   "display_name": "Python 3",
   "language": "python",
   "name": "python3"
  },
  "language_info": {
   "codemirror_mode": {
    "name": "ipython",
    "version": 2
   },
   "file_extension": ".py",
   "mimetype": "text/x-python",
   "name": "python",
   "nbconvert_exporter": "python",
   "pygments_lexer": "ipython2",
   "version": "2.7.6"
  }
 },
 "nbformat": 4,
 "nbformat_minor": 5
}
