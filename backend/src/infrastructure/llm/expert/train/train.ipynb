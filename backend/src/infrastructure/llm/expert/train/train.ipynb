{
 "cells": [
  {
   "metadata": {
    "ExecuteTime": {
     "end_time": "2024-09-28T19:17:53.744334Z",
     "start_time": "2024-09-28T19:17:53.265811Z"
    }
   },
   "cell_type": "code",
   "source": [
    "from langchain_community.document_loaders import DirectoryLoader\n",
    "from langchain.text_splitter import RecursiveCharacterTextSplitter"
   ],
   "id": "66a87a1a4ff0f413",
   "execution_count": 1,
   "outputs": []
  },
  {
   "metadata": {
    "ExecuteTime": {
     "end_time": "2024-09-28T19:17:53.747985Z",
     "start_time": "2024-09-28T19:17:53.745618Z"
    }
   },
   "cell_type": "code",
   "source": [
    "def load_md_files_from_dir(directory_path):\n",
    "    print(\"Loading documents\")\n",
    "    loader = DirectoryLoader(directory_path, glob=\"*.md\")\n",
    "    documents = loader.load()\n",
    "    return documents\n",
    "\n",
    "\n",
    "def segment_documents(documents, chunk_size=1000, chunk_overlap=200):\n",
    "    print(\"Segmenting documents\")\n",
    "    text_splitter = RecursiveCharacterTextSplitter(chunk_size=chunk_size, chunk_overlap=chunk_overlap)\n",
    "    segmented_docs = text_splitter.split_documents(documents)\n",
    "    return segmented_docs\n"
   ],
   "id": "17ed3344a127ef23",
   "execution_count": 2,
   "outputs": []
  },
  {
   "metadata": {
    "ExecuteTime": {
     "end_time": "2024-09-28T19:17:55.610647Z",
     "start_time": "2024-09-28T19:17:53.748709Z"
    }
   },
   "cell_type": "code",
   "source": [
    "md_directory = \"./data\"\n",
    "documents = load_md_files_from_dir(md_directory)\n",
    "segmented_docs = segment_documents(documents)"
   ],
   "id": "7097a4ce55bf3242",
   "execution_count": 3,
   "outputs": []
  },
  {
   "metadata": {},
   "cell_type": "code",
   "execution_count": null,
   "source": "",
   "id": "e982d2cca3ab8106",
   "outputs": []
  }
 ],
 "metadata": {
  "kernelspec": {
   "display_name": "Python 3",
   "language": "python",
   "name": "python3"
  },
  "language_info": {
   "codemirror_mode": {
    "name": "ipython",
    "version": 2
   },
   "file_extension": ".py",
   "mimetype": "text/x-python",
   "name": "python",
   "nbconvert_exporter": "python",
   "pygments_lexer": "ipython2",
   "version": "2.7.6"
  }
 },
 "nbformat": 4,
 "nbformat_minor": 5
}
