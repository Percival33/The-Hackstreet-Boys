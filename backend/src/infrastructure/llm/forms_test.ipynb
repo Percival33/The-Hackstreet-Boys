{
 "cells": [
  {
   "cell_type": "code",
   "id": "initial_id",
   "metadata": {
    "collapsed": true,
    "ExecuteTime": {
     "end_time": "2024-09-28T13:42:31.780311Z",
     "start_time": "2024-09-28T13:42:30.566781Z"
    }
   },
   "source": [
    "%reload_ext autoreload\n",
    "%autoreload 2\n",
    "\n",
    "import dotenv\n",
    "from src.infrastructure.llm.forms import FormsModel\n",
    "\n",
    "dotenv.load_dotenv()\n",
    "\n",
    "forms = FormsModel(\n",
    "    conversation_history=[],\n",
    "    language='polski'\n",
    ")"
   ],
   "outputs": [],
   "execution_count": 34
  },
  {
   "metadata": {
    "ExecuteTime": {
     "end_time": "2024-09-28T13:44:53.066539Z",
     "start_time": "2024-09-28T13:44:53.020562Z"
    }
   },
   "cell_type": "code",
   "source": [
    "system = '''Numer pola: 4\n",
    "Nazwa: DATA DOKONANIA CZYNNOŚCI\n",
    "Obowiązkowe? Tak Typ: Data\n",
    "Opis: Data dokonania czynności nie może być wcześniejsza niż 01.01.2024 r. i nie może być\n",
    "późniejsza niż data złożenia deklaracji\n",
    "Reguła: data dokonania czynności jest większa lub równa 01.01.2024 r. i jest mniejsza lub równa\n",
    "dacie złożenia deklaracji\n",
    "P4>=01.01.2024 ORAZ P4<=data złożenia\n",
    "\n",
    "Numer pola: 6\n",
    "Nazwa: KWOTA TRANSAKCJI\n",
    "Obowiązkowe? Tak Typ: Rzeczywiste\n",
    "Opis: Kwota transakcji\n",
    "Reguła: kwota jest większa od 0\n",
    "P6=1\n",
    "\n",
    "Numer pola: 7\n",
    "Nazwa: PODMIOT SKŁADAJĄCY DEKLARACJĘ\n",
    "Obowiązkowe? Tak Typ: Całkowite\n",
    "Opis: Podmiot składający deklarację musi przyjmować wartość: 1 (podmiot zobowiązany solidarnie\n",
    "do zapłaty podatku), lub 5 (inny podmiot).\n",
    "Reguła: podmiot składający deklarację jest równy: 1 (podmiot zobowiązany solidarnie do zapłaty\n",
    "podatku) lub 5 (inny podmiot)\n",
    "P7=1 LUB P7=5'''"
   ],
   "id": "7c991b471001e975",
   "outputs": [],
   "execution_count": 38
  },
  {
   "metadata": {
    "ExecuteTime": {
     "end_time": "2024-09-28T13:44:54.322792Z",
     "start_time": "2024-09-28T13:44:53.240041Z"
    }
   },
   "cell_type": "code",
   "source": "res = forms.ask_question(system)",
   "id": "730d01c73d2079bf",
   "outputs": [],
   "execution_count": 39
  },
  {
   "metadata": {
    "ExecuteTime": {
     "end_time": "2024-09-28T13:44:54.383438Z",
     "start_time": "2024-09-28T13:44:54.323694Z"
    }
   },
   "cell_type": "code",
   "source": "res",
   "id": "d1d2e3f91c6b03c3",
   "outputs": [
    {
     "data": {
      "text/plain": [
       "AskQuestionSchema(message='Proszę podać datę dokonania czynności (musi być nie wcześniejsza niż 01.01.2024 r. i nie późniejsza niż data złożenia deklaracji) oraz datę złożenia deklaracji. Dziękuję!', answered_fields=[4])"
      ]
     },
     "execution_count": 40,
     "metadata": {},
     "output_type": "execute_result"
    }
   ],
   "execution_count": 40
  },
  {
   "metadata": {
    "ExecuteTime": {
     "end_time": "2024-09-28T13:01:56.668579Z",
     "start_time": "2024-09-28T13:01:56.658728Z"
    }
   },
   "cell_type": "code",
   "source": [
    "response = '''Wczoraj kupiłem na giełdzie samochodowej Fiata 126p rok prod. 1975, kolor zielony. Przejechane ma\n",
    "1000000 km, idzie jak przecinak, nic nie stuka, nic nie puka, dosłownie igła. Zapłaciłem za niego 1000\n",
    "zł ale jego wartość jest wyższa o 2000 zł i co mam z tym zrobić ?\n",
    "'''"
   ],
   "id": "88e3fbd197f2695a",
   "outputs": [],
   "execution_count": 2
  },
  {
   "metadata": {
    "ExecuteTime": {
     "end_time": "2024-09-28T13:05:09.011547Z",
     "start_time": "2024-09-28T13:05:08.093782Z"
    }
   },
   "cell_type": "code",
   "source": "res = forms.process_response(response, system)",
   "id": "229bb5bd13d01dde",
   "outputs": [],
   "execution_count": 10
  },
  {
   "metadata": {
    "ExecuteTime": {
     "end_time": "2024-09-28T13:05:09.024495Z",
     "start_time": "2024-09-28T13:05:09.012717Z"
    }
   },
   "cell_type": "code",
   "source": "res",
   "id": "487c549e693c12c6",
   "outputs": [
    {
     "data": {
      "text/plain": [
       "ProcessingSchema(fields=[ProcessedFieldSchema(field_number=6, field_value=1000)])"
      ]
     },
     "execution_count": 11,
     "metadata": {},
     "output_type": "execute_result"
    }
   ],
   "execution_count": 11
  },
  {
   "metadata": {},
   "cell_type": "code",
   "outputs": [],
   "execution_count": null,
   "source": "",
   "id": "5585a06f67d11165"
  }
 ],
 "metadata": {
  "kernelspec": {
   "display_name": "Python 3",
   "language": "python",
   "name": "python3"
  },
  "language_info": {
   "codemirror_mode": {
    "name": "ipython",
    "version": 2
   },
   "file_extension": ".py",
   "mimetype": "text/x-python",
   "name": "python",
   "nbconvert_exporter": "python",
   "pygments_lexer": "ipython2",
   "version": "2.7.6"
  }
 },
 "nbformat": 4,
 "nbformat_minor": 5
}
